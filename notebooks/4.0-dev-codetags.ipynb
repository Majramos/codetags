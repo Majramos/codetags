{
 "cells": [
  {
   "cell_type": "code",
   "execution_count": 1,
   "id": "2af42150-22d5-40c6-a7c0-da27465fa5ee",
   "metadata": {},
   "outputs": [],
   "source": [
    "from pathlib import Path"
   ]
  },
  {
   "cell_type": "code",
   "execution_count": 5,
   "id": "a9864867-fd97-4631-9124-44d98fa81a77",
   "metadata": {},
   "outputs": [
    {
     "data": {
      "text/plain": [
       "PosixPath('/home/pyuser/workspace/code_sample')"
      ]
     },
     "execution_count": 5,
     "metadata": {},
     "output_type": "execute_result"
    }
   ],
   "source": [
    "CWD = Path(\".\").resolve().parent/\"code_sample\"\n",
    "CWD"
   ]
  },
  {
   "cell_type": "code",
   "execution_count": 46,
   "id": "5e863a32-cdaf-4f92-a3c3-99f742da4c26",
   "metadata": {},
   "outputs": [
    {
     "data": {
      "text/plain": [
       "(PosixPath('/home/pyuser/workspace/code_sample/python/module1.py'),\n",
       " PosixPath('/home/pyuser/workspace/code_sample/python/module2.py'),\n",
       " PosixPath('/home/pyuser/workspace/code_sample/python/submodule/submodule1.py'))"
      ]
     },
     "execution_count": 46,
     "metadata": {},
     "output_type": "execute_result"
    }
   ],
   "source": [
    "files = tuple(filter(\n",
    "    lambda x: not x.match(\"*/.ipynb_checkpoints/*\"),\n",
    "    CWD.glob(\"**/*.py\")\n",
    "))\n",
    "\n",
    "files"
   ]
  },
  {
   "cell_type": "code",
   "execution_count": 40,
   "id": "f8719ce0-3867-47f9-a70e-d719e15e3441",
   "metadata": {},
   "outputs": [
    {
     "name": "stdout",
     "output_type": "stream",
     "text": [
      "\"\"\"\n",
      "\n",
      "This is a sample module for developing/testing codetags\n",
      "\n",
      "\"\"\"\n",
      "\n"
     ]
    }
   ],
   "source": [
    "test_file = [files[1]]\n",
    "\n",
    "import re\n",
    "\n",
    "from codetags.utils import select_tags\n",
    "\n",
    "tags = select_tags()\n",
    "regex = re.compile(f'(?:(?:# )({tags})(?::))(.*?)(?:(?:<(.*?)>)|(?:\\n))')\n",
    "\n",
    "target = []\n",
    "for file in test_file:\n",
    "    with file.open(mode='r') as f:\n",
    "        print(f.readline())\n",
    "        print(f.readline())\n",
    "        print(f.readline())\n",
    "\n",
    "# target"
   ]
  },
  {
   "cell_type": "code",
   "execution_count": 54,
   "id": "dc35d916-c7a0-4a05-989a-bb77fbd59b88",
   "metadata": {},
   "outputs": [],
   "source": [
    "RE_P = re.compile(r\"p:([1-9]{1})\")\n",
    "RE_D = re.compile(\n",
    "    r\"d:(((?:19|20)[0-9][0-9])-(0?[1-9]|1[012])-(0[1-9]|[12][0-9]|3[01]))\"\n",
    ")\n",
    "\n",
    "def parse_fields(tag_field):\n",
    "    \"\"\" Parse/extract the 'p'riority and 'd'ate value from the tag field inside\n",
    "    the brackets '<>'. Can have both or only one of the tags.\n",
    "    Expects a string with the p or d tag and respetives values. 'p' should have\n",
    "    a single integer 1-9 and 'd' should return a date in the format yyyy-mm-dd.\n",
    "\n",
    "    Parameters\n",
    "    ----------\n",
    "    tag_field: str\n",
    "    \"\"\"\n",
    "\n",
    "    priority = 1\n",
    "    date = 'yyyy-mm-dd'\n",
    "\n",
    "    if (tf := tag_field) and tf.strip() != '':\n",
    "        if (p_match := RE_P.search(tag_field)):\n",
    "            priority = p_match.group(1)\n",
    "\n",
    "        if (d_match := RE_D.search(tag_field)):\n",
    "            date = d_match.group(1)\n",
    "\n",
    "    return priority, date"
   ]
  },
  {
   "cell_type": "code",
   "execution_count": 56,
   "id": "2106e8c7-b0f0-4649-9d27-cabc1c7a3c5c",
   "metadata": {},
   "outputs": [
    {
     "data": {
      "text/plain": [
       "[{'path': '/home/pyuser/workspace/code_sample/python/module2.py',\n",
       "  'tag': 'BUG',\n",
       "  'priority': '1',\n",
       "  'date': 'yyyy-mm-dd',\n",
       "  'line': 7,\n",
       "  'msg': \"'bug', module2, line 7, no closing brackets\"},\n",
       " {'path': '/home/pyuser/workspace/code_sample/python/module2.py',\n",
       "  'tag': 'FIXME',\n",
       "  'priority': '1',\n",
       "  'date': 'yyyy-mm-dd',\n",
       "  'line': 10,\n",
       "  'msg': \"'fix me', module2, line 10, no closing brackets\"},\n",
       " {'path': '/home/pyuser/workspace/code_sample/python/module2.py',\n",
       "  'tag': 'NOTE',\n",
       "  'priority': '1',\n",
       "  'date': 'yyyy-mm-dd',\n",
       "  'line': 13,\n",
       "  'msg': \"'note', module2, line 13, no closing brackets\"},\n",
       " {'path': '/home/pyuser/workspace/code_sample/python/module2.py',\n",
       "  'tag': 'TODO',\n",
       "  'priority': '1',\n",
       "  'date': 'yyyy-mm-dd',\n",
       "  'line': 16,\n",
       "  'msg': \"'todo', module2, line 16, no closing brackets\"},\n",
       " {'path': '/home/pyuser/workspace/code_sample/python/module2.py',\n",
       "  'tag': 'BUG',\n",
       "  'priority': '1',\n",
       "  'date': 'yyyy-mm-dd',\n",
       "  'line': 19,\n",
       "  'msg': \"'bug', module2, line 19\"},\n",
       " {'path': '/home/pyuser/workspace/code_sample/python/module2.py',\n",
       "  'tag': 'NOTE',\n",
       "  'priority': '3',\n",
       "  'date': 'yyyy-mm-dd',\n",
       "  'line': 22,\n",
       "  'msg': \"'note', module2, line 22, p3\"},\n",
       " {'path': '/home/pyuser/workspace/code_sample/python/module2.py',\n",
       "  'tag': 'TODO',\n",
       "  'priority': '1',\n",
       "  'date': '2022-01-01',\n",
       "  'line': 25,\n",
       "  'msg': \"'todo', module2, line 25, d2022-01-01\"},\n",
       " {'path': '/home/pyuser/workspace/code_sample/python/module2.py',\n",
       "  'tag': 'FIXME',\n",
       "  'priority': '2',\n",
       "  'date': '2022-02-01',\n",
       "  'line': 28,\n",
       "  'msg': \"'fix me', module2, line 28, p2 d2022-01-01\"},\n",
       " {'path': '/home/pyuser/workspace/code_sample/python/module2.py',\n",
       "  'tag': 'FIXME',\n",
       "  'priority': '3',\n",
       "  'date': '2022-01-15',\n",
       "  'line': 31,\n",
       "  'msg': \"'fix me', module2, line 31, p3 d2022-01-15\"},\n",
       " {'path': '/home/pyuser/workspace/code_sample/python/module2.py',\n",
       "  'tag': 'BUG',\n",
       "  'priority': '1',\n",
       "  'date': 'yyyy-mm-dd',\n",
       "  'line': 34,\n",
       "  'msg': \"'bug', module2, line 34, field with spaces\"},\n",
       " {'path': '/home/pyuser/workspace/code_sample/python/module2.py',\n",
       "  'tag': 'TODO',\n",
       "  'priority': '1',\n",
       "  'date': 'yyyy-mm-dd',\n",
       "  'line': 37,\n",
       "  'msg': \"'todo', module2, line 37, field random\"},\n",
       " {'path': '/home/pyuser/workspace/code_sample/python/module2.py',\n",
       "  'tag': 'FIXME',\n",
       "  'priority': '2',\n",
       "  'date': '2022-02-01',\n",
       "  'line': 40,\n",
       "  'msg': \"'fix me', module2, line 40, p2 d2022-01-01\"}]"
      ]
     },
     "execution_count": 56,
     "metadata": {},
     "output_type": "execute_result"
    }
   ],
   "source": [
    "test_file = [files[1]]\n",
    "\n",
    "tags = select_tags()\n",
    "regex = re.compile(f'(?:(?:# )({tags})(?::))(.*?)(?:(?:<(.*?)>)|(?:\\n))')\n",
    "\n",
    "findings = []\n",
    "for file in test_file:\n",
    "    with file.open(mode='r') as f:\n",
    "        for l_no, line in enumerate(f, start=1):\n",
    "            if (match := regex.search(line)):\n",
    "                priority, date = parse_fields(match.group(3))\n",
    "\n",
    "                findings.append({\n",
    "                    'path': str(file),\n",
    "                    'tag': match.group(1),\n",
    "                    'priority': str(priority),\n",
    "                    'date': date,\n",
    "                    'line': l_no,\n",
    "                    'msg': match.group(2).strip(),\n",
    "                 })\n",
    "\n",
    "findings"
   ]
  }
 ],
 "metadata": {
  "kernelspec": {
   "display_name": "Python 3 (ipykernel)",
   "language": "python",
   "name": "python3"
  },
  "language_info": {
   "codemirror_mode": {
    "name": "ipython",
    "version": 3
   },
   "file_extension": ".py",
   "mimetype": "text/x-python",
   "name": "python",
   "nbconvert_exporter": "python",
   "pygments_lexer": "ipython3",
   "version": "3.11.9"
  }
 },
 "nbformat": 4,
 "nbformat_minor": 5
}
