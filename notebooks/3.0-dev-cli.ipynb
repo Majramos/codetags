{
 "cells": [
  {
   "cell_type": "code",
   "execution_count": 1,
   "id": "aa6a4c3b-8cd2-451e-8895-da8905fbc248",
   "metadata": {},
   "outputs": [],
   "source": [
    "import argparse\n",
    "import sys\n",
    "from pathlib import Path\n",
    "\n",
    "sys.path.append()"
   ]
  },
  {
   "cell_type": "code",
   "execution_count": 8,
   "id": "bb9d77a5-57e2-4110-be1c-846dbfa9ee48",
   "metadata": {},
   "outputs": [],
   "source": [
    "from codetags import __version__\n",
    "from codetags.codetags import TAGS"
   ]
  },
  {
   "cell_type": "code",
   "execution_count": 74,
   "id": "92368037-076a-4122-a4c2-550d17db7f42",
   "metadata": {},
   "outputs": [
    {
     "name": "stdout",
     "output_type": "stream",
     "text": [
      "Namespace(loc=PosixPath('/home/pyuser/workspace/notebooks'), output=PosixPath('/home/pyuser/workspace/notebooks'), sort=False, tag=['BUG', 'FIXME', 'NOTE', 'TODO'])\n"
     ]
    },
    {
     "ename": "SystemExit",
     "evalue": "0",
     "output_type": "error",
     "traceback": [
      "An exception has occurred, use %tb to see the full traceback.\n",
      "\u001b[0;31mSystemExit\u001b[0m\u001b[0;31m:\u001b[0m 0\n"
     ]
    }
   ],
   "source": [
    "def validate_loc(path: str) -> Path:\n",
    "    \"\"\" Validate if the location/file exists. The location has base CWD \"\"\"\n",
    "\n",
    "    loc = Path(path).resolve()\n",
    "    if loc.exists():\n",
    "        return loc\n",
    "    else:\n",
    "        raise argparse.ArgumentTypeError(f\"'{loc}' is not a location\")\n",
    "\n",
    "\n",
    "parser = argparse.ArgumentParser(\n",
    "    prog=\"codetags\",\n",
    "    allow_abbrev=False,\n",
    "    description=\"Locate tags in code files\",\n",
    "    epilog=\"Thanks for using %(prog)s!\"\n",
    ")\n",
    "\n",
    "parser.add_argument(\n",
    "    \"-l\", \"--loc\",\n",
    "    default=Path().resolve(),\n",
    "    type=validate_loc,\n",
    "    metavar=\"path\",\n",
    "    help=\"path where to search .py files (defaults to ./)\"\n",
    ")\n",
    "\n",
    "parser.add_argument(\n",
    "    \"-o\", \"--output\",\n",
    "    default=\".\",\n",
    "    type=validate_loc,\n",
    "    metavar=\"file\",\n",
    "    nargs=\"?\",\n",
    "    help=\"output location of findings file (defaults to ./codetags.txt)\"\n",
    ")\n",
    "\n",
    "parser.add_argument(\n",
    "    \"-s\", \"--sort\",\n",
    "    default=False,\n",
    "    action=\"store_true\",\n",
    "    help=\"how to sort the findings\"\n",
    ")\n",
    "\n",
    "parser.add_argument(\n",
    "    \"-t\", \"--tag\",\n",
    "    choices=TAGS,\n",
    "    default=TAGS,\n",
    "    nargs=\"+\",\n",
    "    help=\"tags to search (defaults to all)\"\n",
    ")\n",
    "\n",
    "parser.add_argument(\n",
    "    \"-v\", \"--version\",\n",
    "    action=\"version\",\n",
    "    version=f\"%(prog)s {__version__}\",\n",
    "    help=\"display package version\"\n",
    ")\n",
    "\n",
    "args = parser.parse_args([\"-l\", \".\"])\n",
    "\n",
    "print(args)"
   ]
  }
 ],
 "metadata": {
  "kernelspec": {
   "display_name": "Python 3 (ipykernel)",
   "language": "python",
   "name": "python3"
  },
  "language_info": {
   "codemirror_mode": {
    "name": "ipython",
    "version": 3
   },
   "file_extension": ".py",
   "mimetype": "text/x-python",
   "name": "python",
   "nbconvert_exporter": "python",
   "pygments_lexer": "ipython3",
   "version": "3.11.9"
  }
 },
 "nbformat": 4,
 "nbformat_minor": 5
}
