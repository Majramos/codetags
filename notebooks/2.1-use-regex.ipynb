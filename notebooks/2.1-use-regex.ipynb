{
 "cells": [
  {
   "cell_type": "code",
   "execution_count": 1,
   "id": "709e2fff-758c-4c45-ab77-8b177d18f1b4",
   "metadata": {},
   "outputs": [],
   "source": [
    "import re\n",
    "from pathlib import Path"
   ]
  },
  {
   "cell_type": "code",
   "execution_count": 2,
   "id": "bcbf46af-2351-40d2-9347-55ab988521b0",
   "metadata": {},
   "outputs": [
    {
     "data": {
      "text/plain": [
       "[PosixPath('/home/pyuser/workspace/code_sample/python/module1.py'),\n",
       " PosixPath('/home/pyuser/workspace/code_sample/python/module2.py'),\n",
       " PosixPath('/home/pyuser/workspace/code_sample/python/submodule/submodule1.py')]"
      ]
     },
     "execution_count": 2,
     "metadata": {},
     "output_type": "execute_result"
    }
   ],
   "source": [
    "CODE_SAMPLE = Path(\".\").resolve().parent/\"code_sample\"/\"python\"\n",
    "code_samples = list(filter(lambda x: not x.match(\"*/.ipynb_checkpoints/*\"), CODE_SAMPLE.glob(\"**/*.py\")))\n",
    "code_samples"
   ]
  },
  {
   "cell_type": "code",
   "execution_count": 3,
   "id": "1e14b996-1b1d-4e5b-b8db-8722ac6632ff",
   "metadata": {},
   "outputs": [],
   "source": [
    "tags = '|'.join(['BUG', 'FIXME', 'NOTE', 'TODO'])\n",
    "regex = re.compile(f'(?:(?:# )({tags})(?::))(.*?)(?:(?:<(.*?)>)|(?:\\n))')"
   ]
  },
  {
   "cell_type": "code",
   "execution_count": 4,
   "id": "05627be5-d719-4a62-a649-cfd63e89fb8f",
   "metadata": {
    "scrolled": true
   },
   "outputs": [
    {
     "name": "stdout",
     "output_type": "stream",
     "text": [
      "5 \t # NOTE: 'note' out of functions, module1, line 5, no closing brackets\n",
      "7 \t # NOTE: 'note' multirow, out of functions, module1, line 7, no closing brackets\n",
      "10 \t # TODO: 'todo' out of functions, module1, line 10, with closing brackets <>\n",
      "14 \t # BUG: 'bug' in class, module1, line 14, brackets date 2022-01-01, multirow\n",
      "26 \t # TODO: 'todo' in method, module1, line 26, no closing brackets\n",
      "36 \t a_object = Aclass() # FIXME: 'fixme' in function, module1, line 36, no brackets\n",
      "47 \t a_object = Aclass() # TODO: 'todo' in function, module1, line 47, brackets p2, multiline\n",
      "60 \t # FIXME: 'fixme' in function 'main', module1, line 60, with brackets p1 <p:1>\n"
     ]
    }
   ],
   "source": [
    "with code_samples[0].open(mode='r') as f:\n",
    "    for l_no, line in enumerate(f, start=1):\n",
    "        if (match := regex.search(line)):\n",
    "           print(l_no, \"\\t\", line.strip())"
   ]
  }
 ],
 "metadata": {
  "kernelspec": {
   "display_name": "Python 3 (ipykernel)",
   "language": "python",
   "name": "python3"
  },
  "language_info": {
   "codemirror_mode": {
    "name": "ipython",
    "version": 3
   },
   "file_extension": ".py",
   "mimetype": "text/x-python",
   "name": "python",
   "nbconvert_exporter": "python",
   "pygments_lexer": "ipython3",
   "version": "3.11.9"
  }
 },
 "nbformat": 4,
 "nbformat_minor": 5
}
