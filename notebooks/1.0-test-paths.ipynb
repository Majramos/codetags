{
 "cells": [
  {
   "cell_type": "code",
   "execution_count": 1,
   "id": "fb2f183e-c91e-4466-a55e-84a731ba0220",
   "metadata": {},
   "outputs": [],
   "source": [
    "from pathlib import Path"
   ]
  },
  {
   "cell_type": "code",
   "execution_count": 6,
   "id": "09aea968-0ffc-4990-9cea-c9a2779ab4fa",
   "metadata": {},
   "outputs": [
    {
     "name": "stdout",
     "output_type": "stream",
     "text": [
      "/home/pyuser/workspace/code_sample/python\n"
     ]
    }
   ],
   "source": [
    "CODE_SAMPLE = Path(\".\").resolve().parent/\"code_sample\"/\"python\"\n",
    "print(CODE_SAMPLE)"
   ]
  },
  {
   "cell_type": "code",
   "execution_count": 17,
   "id": "5fa58c57-8a05-4ed5-a94f-b1a6b3ce7bec",
   "metadata": {},
   "outputs": [
    {
     "data": {
      "text/plain": [
       "[PosixPath('/home/pyuser/workspace/code_sample/python/module1.py'),\n",
       " PosixPath('/home/pyuser/workspace/code_sample/python/module2.py'),\n",
       " PosixPath('/home/pyuser/workspace/code_sample/python/.ipynb_checkpoints/module1-checkpoint.py'),\n",
       " PosixPath('/home/pyuser/workspace/code_sample/python/.ipynb_checkpoints/module2-checkpoint.py'),\n",
       " PosixPath('/home/pyuser/workspace/code_sample/python/submodule/submodule1.py'),\n",
       " PosixPath('/home/pyuser/workspace/code_sample/python/submodule/.ipynb_checkpoints/submodule1-checkpoint.py')]"
      ]
     },
     "execution_count": 17,
     "metadata": {},
     "output_type": "execute_result"
    }
   ],
   "source": [
    "list(CODE_SAMPLE.glob(\"**/*.py\"))"
   ]
  },
  {
   "cell_type": "code",
   "execution_count": 20,
   "id": "dd044ba8-5ff5-4114-bbea-da0779b1b695",
   "metadata": {},
   "outputs": [
    {
     "data": {
      "text/plain": [
       "[PosixPath('/home/pyuser/workspace/code_sample/python/module1.py'),\n",
       " PosixPath('/home/pyuser/workspace/code_sample/python/module2.py'),\n",
       " PosixPath('/home/pyuser/workspace/code_sample/python/submodule/submodule1.py')]"
      ]
     },
     "execution_count": 20,
     "metadata": {},
     "output_type": "execute_result"
    }
   ],
   "source": [
    "list(filter(lambda x: not x.match(\"*/.ipynb_checkpoints/*\"), CODE_SAMPLE.glob(\"**/*.py\")))"
   ]
  }
 ],
 "metadata": {
  "kernelspec": {
   "display_name": "Python 3 (ipykernel)",
   "language": "python",
   "name": "python3"
  },
  "language_info": {
   "codemirror_mode": {
    "name": "ipython",
    "version": 3
   },
   "file_extension": ".py",
   "mimetype": "text/x-python",
   "name": "python",
   "nbconvert_exporter": "python",
   "pygments_lexer": "ipython3",
   "version": "3.11.9"
  }
 },
 "nbformat": 4,
 "nbformat_minor": 5
}
